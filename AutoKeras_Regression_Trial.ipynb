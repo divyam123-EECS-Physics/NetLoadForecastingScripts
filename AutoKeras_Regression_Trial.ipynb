{
  "nbformat": 4,
  "nbformat_minor": 0,
  "metadata": {
    "colab": {
      "provenance": [],
      "authorship_tag": "ABX9TyMvFqDcL30JEsKhlC5ui3mr",
      "include_colab_link": true
    },
    "kernelspec": {
      "name": "python3",
      "display_name": "Python 3"
    },
    "language_info": {
      "name": "python"
    }
  },
  "cells": [
    {
      "cell_type": "markdown",
      "metadata": {
        "id": "view-in-github",
        "colab_type": "text"
      },
      "source": [
        "<a href=\"https://colab.research.google.com/github/divyam123-EECS-Physics/NetLoadForecastingScripts/blob/main/AutoKeras_Regression_Trial.ipynb\" target=\"_parent\"><img src=\"https://colab.research.google.com/assets/colab-badge.svg\" alt=\"Open In Colab\"/></a>"
      ]
    },
    {
      "cell_type": "code",
      "execution_count": null,
      "metadata": {
        "colab": {
          "base_uri": "https://localhost:8080/"
        },
        "id": "aDLpE0dL323I",
        "outputId": "1a012d2b-e5ae-4260-ef22-0230e1881478"
      },
      "outputs": [
        {
          "output_type": "stream",
          "name": "stdout",
          "text": [
            "Mounted at /content/drive\n"
          ]
        }
      ],
      "source": [
        "from google.colab import drive\n",
        "drive.mount('/content/drive')"
      ]
    },
    {
      "cell_type": "code",
      "source": [
        "\n",
        "import pandas as pd\n",
        "!pip install solarforecastarbiter\n",
        "!pip install TimezoneFinder\n",
        "\n",
        "import numpy as np\n",
        "import matplotlib.pyplot as plt\n",
        "from timezonefinder import TimezoneFinder\n",
        "import solarforecastarbiter.metrics\n",
        "from solarforecastarbiter.metrics.probabilistic import continuous_ranked_probability_score,crps_skill_score\n",
        "import solarforecastarbiter.reference_forecasts\n",
        "from solarforecastarbiter.datamodel import Site, Observation\n",
        "from solarforecastarbiter.reference_forecasts.persistence import persistence_probabilistic_timeofday# from gluonts.mx.model.deep_npts import DeepNPTSEstimator\n",
        "import torch\n",
        "import scipy as sp\n",
        "\n",
        "import torch.nn as nn\n",
        "import torch.optim as optim\n",
        "from torch.utils.data import Dataset, DataLoader\n",
        "from sklearn.model_selection import train_test_split\n"
      ],
      "metadata": {
        "colab": {
          "base_uri": "https://localhost:8080/"
        },
        "id": "_b66sS8M33YC",
        "outputId": "711656eb-054f-446f-9242-e2ae3174b51f"
      },
      "execution_count": null,
      "outputs": [
        {
          "output_type": "stream",
          "name": "stdout",
          "text": [
            "Collecting solarforecastarbiter\n",
            "  Downloading solarforecastarbiter-1.0.13-py3-none-any.whl (8.2 MB)\n",
            "\u001b[2K     \u001b[90m━━━━━━━━━━━━━━━━━━━━━━━━━━━━━━━━━━━━━━━━\u001b[0m \u001b[32m8.2/8.2 MB\u001b[0m \u001b[31m47.4 MB/s\u001b[0m eta \u001b[36m0:00:00\u001b[0m\n",
            "\u001b[?25hRequirement already satisfied: click in /usr/local/lib/python3.10/dist-packages (from solarforecastarbiter) (8.1.3)\n",
            "Collecting netCDF4 (from solarforecastarbiter)\n",
            "  Downloading netCDF4-1.6.4-cp310-cp310-manylinux_2_17_x86_64.manylinux2014_x86_64.whl (5.4 MB)\n",
            "\u001b[2K     \u001b[90m━━━━━━━━━━━━━━━━━━━━━━━━━━━━━━━━━━━━━━━━\u001b[0m \u001b[32m5.4/5.4 MB\u001b[0m \u001b[31m64.4 MB/s\u001b[0m eta \u001b[36m0:00:00\u001b[0m\n",
            "\u001b[?25hRequirement already satisfied: numpy>=1.18.2 in /usr/local/lib/python3.10/dist-packages (from solarforecastarbiter) (1.22.4)\n",
            "Requirement already satisfied: pandas>=1.0.3 in /usr/local/lib/python3.10/dist-packages (from solarforecastarbiter) (1.5.3)\n",
            "Collecting requests<=2.25.1 (from solarforecastarbiter)\n",
            "  Downloading requests-2.25.1-py2.py3-none-any.whl (61 kB)\n",
            "\u001b[2K     \u001b[90m━━━━━━━━━━━━━━━━━━━━━━━━━━━━━━━━━━━━━━━━\u001b[0m \u001b[32m61.2/61.2 kB\u001b[0m \u001b[31m6.8 MB/s\u001b[0m eta \u001b[36m0:00:00\u001b[0m\n",
            "\u001b[?25hRequirement already satisfied: xarray in /usr/local/lib/python3.10/dist-packages (from solarforecastarbiter) (2022.12.0)\n",
            "Requirement already satisfied: tables in /usr/local/lib/python3.10/dist-packages (from solarforecastarbiter) (3.8.0)\n",
            "Collecting pvlib==0.8.0 (from solarforecastarbiter)\n",
            "  Downloading pvlib-0.8.0-py3-none-any.whl (22.3 MB)\n",
            "\u001b[2K     \u001b[90m━━━━━━━━━━━━━━━━━━━━━━━━━━━━━━━━━━━━━━━━\u001b[0m \u001b[32m22.3/22.3 MB\u001b[0m \u001b[31m19.0 MB/s\u001b[0m eta \u001b[36m0:00:00\u001b[0m\n",
            "\u001b[?25hRequirement already satisfied: scipy in /usr/local/lib/python3.10/dist-packages (from solarforecastarbiter) (1.10.1)\n",
            "Requirement already satisfied: statsmodels in /usr/local/lib/python3.10/dist-packages (from solarforecastarbiter) (0.13.5)\n",
            "Requirement already satisfied: jsonschema in /usr/local/lib/python3.10/dist-packages (from solarforecastarbiter) (4.3.3)\n",
            "Requirement already satisfied: pytz in /usr/local/lib/python3.10/dist-packages (from solarforecastarbiter) (2022.7.1)\n",
            "Requirement already satisfied: python-dateutil>=2.8.1 in /usr/local/lib/python3.10/dist-packages (from pandas>=1.0.3->solarforecastarbiter) (2.8.2)\n",
            "Requirement already satisfied: chardet<5,>=3.0.2 in /usr/local/lib/python3.10/dist-packages (from requests<=2.25.1->solarforecastarbiter) (4.0.0)\n",
            "Collecting idna<3,>=2.5 (from requests<=2.25.1->solarforecastarbiter)\n",
            "  Downloading idna-2.10-py2.py3-none-any.whl (58 kB)\n",
            "\u001b[2K     \u001b[90m━━━━━━━━━━━━━━━━━━━━━━━━━━━━━━━━━━━━━━━━\u001b[0m \u001b[32m58.8/58.8 kB\u001b[0m \u001b[31m6.5 MB/s\u001b[0m eta \u001b[36m0:00:00\u001b[0m\n",
            "\u001b[?25hRequirement already satisfied: urllib3<1.27,>=1.21.1 in /usr/local/lib/python3.10/dist-packages (from requests<=2.25.1->solarforecastarbiter) (1.26.16)\n",
            "Requirement already satisfied: certifi>=2017.4.17 in /usr/local/lib/python3.10/dist-packages (from requests<=2.25.1->solarforecastarbiter) (2023.5.7)\n",
            "Requirement already satisfied: attrs>=17.4.0 in /usr/local/lib/python3.10/dist-packages (from jsonschema->solarforecastarbiter) (23.1.0)\n",
            "Requirement already satisfied: pyrsistent!=0.17.0,!=0.17.1,!=0.17.2,>=0.14.0 in /usr/local/lib/python3.10/dist-packages (from jsonschema->solarforecastarbiter) (0.19.3)\n",
            "Collecting cftime (from netCDF4->solarforecastarbiter)\n",
            "  Downloading cftime-1.6.2-cp310-cp310-manylinux_2_17_x86_64.manylinux2014_x86_64.whl (1.2 MB)\n",
            "\u001b[2K     \u001b[90m━━━━━━━━━━━━━━━━━━━━━━━━━━━━━━━━━━━━━━━━\u001b[0m \u001b[32m1.2/1.2 MB\u001b[0m \u001b[31m70.7 MB/s\u001b[0m eta \u001b[36m0:00:00\u001b[0m\n",
            "\u001b[?25hRequirement already satisfied: patsy>=0.5.2 in /usr/local/lib/python3.10/dist-packages (from statsmodels->solarforecastarbiter) (0.5.3)\n",
            "Requirement already satisfied: packaging>=21.3 in /usr/local/lib/python3.10/dist-packages (from statsmodels->solarforecastarbiter) (23.1)\n",
            "Requirement already satisfied: cython>=0.29.21 in /usr/local/lib/python3.10/dist-packages (from tables->solarforecastarbiter) (0.29.35)\n",
            "Requirement already satisfied: numexpr>=2.6.2 in /usr/local/lib/python3.10/dist-packages (from tables->solarforecastarbiter) (2.8.4)\n",
            "Requirement already satisfied: blosc2~=2.0.0 in /usr/local/lib/python3.10/dist-packages (from tables->solarforecastarbiter) (2.0.0)\n",
            "Requirement already satisfied: py-cpuinfo in /usr/local/lib/python3.10/dist-packages (from tables->solarforecastarbiter) (9.0.0)\n",
            "Requirement already satisfied: msgpack in /usr/local/lib/python3.10/dist-packages (from blosc2~=2.0.0->tables->solarforecastarbiter) (1.0.5)\n",
            "Requirement already satisfied: six in /usr/local/lib/python3.10/dist-packages (from patsy>=0.5.2->statsmodels->solarforecastarbiter) (1.16.0)\n",
            "Installing collected packages: idna, cftime, requests, netCDF4, pvlib, solarforecastarbiter\n",
            "  Attempting uninstall: idna\n",
            "    Found existing installation: idna 3.4\n",
            "    Uninstalling idna-3.4:\n",
            "      Successfully uninstalled idna-3.4\n",
            "  Attempting uninstall: requests\n",
            "    Found existing installation: requests 2.27.1\n",
            "    Uninstalling requests-2.27.1:\n",
            "      Successfully uninstalled requests-2.27.1\n",
            "\u001b[31mERROR: pip's dependency resolver does not currently take into account all the packages that are installed. This behaviour is the source of the following dependency conflicts.\n",
            "google-colab 1.0.0 requires requests==2.27.1, but you have requests 2.25.1 which is incompatible.\n",
            "tweepy 4.13.0 requires requests<3,>=2.27.0, but you have requests 2.25.1 which is incompatible.\n",
            "yfinance 0.2.21 requires requests>=2.26, but you have requests 2.25.1 which is incompatible.\u001b[0m\u001b[31m\n",
            "\u001b[0mSuccessfully installed cftime-1.6.2 idna-2.10 netCDF4-1.6.4 pvlib-0.8.0 requests-2.25.1 solarforecastarbiter-1.0.13\n",
            "Collecting TimezoneFinder\n",
            "  Downloading timezonefinder-6.2.0.tar.gz (46.9 MB)\n",
            "\u001b[2K     \u001b[90m━━━━━━━━━━━━━━━━━━━━━━━━━━━━━━━━━━━━━━━━\u001b[0m \u001b[32m46.9/46.9 MB\u001b[0m \u001b[31m11.8 MB/s\u001b[0m eta \u001b[36m0:00:00\u001b[0m\n",
            "\u001b[?25h  Installing build dependencies ... \u001b[?25l\u001b[?25hdone\n",
            "  Getting requirements to build wheel ... \u001b[?25l\u001b[?25hdone\n",
            "  Preparing metadata (pyproject.toml) ... \u001b[?25l\u001b[?25hdone\n",
            "Requirement already satisfied: cffi<2,>=1.15.1 in /usr/local/lib/python3.10/dist-packages (from TimezoneFinder) (1.15.1)\n",
            "Collecting h3<4,>=3.7.6 (from TimezoneFinder)\n",
            "  Downloading h3-3.7.6-cp310-cp310-manylinux_2_17_x86_64.manylinux2014_x86_64.whl (1.1 MB)\n",
            "\u001b[2K     \u001b[90m━━━━━━━━━━━━━━━━━━━━━━━━━━━━━━━━━━━━━━━━\u001b[0m \u001b[32m1.1/1.1 MB\u001b[0m \u001b[31m62.6 MB/s\u001b[0m eta \u001b[36m0:00:00\u001b[0m\n",
            "\u001b[?25hRequirement already satisfied: numpy<2,>=1.18 in /usr/local/lib/python3.10/dist-packages (from TimezoneFinder) (1.22.4)\n",
            "Requirement already satisfied: setuptools>=65.5 in /usr/local/lib/python3.10/dist-packages (from TimezoneFinder) (67.7.2)\n",
            "Requirement already satisfied: pycparser in /usr/local/lib/python3.10/dist-packages (from cffi<2,>=1.15.1->TimezoneFinder) (2.21)\n",
            "Building wheels for collected packages: TimezoneFinder\n",
            "  Building wheel for TimezoneFinder (pyproject.toml) ... \u001b[?25l\u001b[?25hdone\n",
            "  Created wheel for TimezoneFinder: filename=timezonefinder-6.2.0-cp310-cp310-manylinux_2_31_x86_64.whl size=46903682 sha256=b288919c19e2f279df8448a8e5a428bfd402793d43b4e2131b290d20c36172af\n",
            "  Stored in directory: /root/.cache/pip/wheels/17/19/d4/ae94459b7f74f7e8f171862d1c08adedf9b7c76ddfc514a620\n",
            "Successfully built TimezoneFinder\n",
            "Installing collected packages: h3, TimezoneFinder\n",
            "Successfully installed TimezoneFinder-6.2.0 h3-3.7.6\n"
          ]
        }
      ]
    },
    {
      "cell_type": "code",
      "source": [
        "!python3 -m pip install git+https://github.com/keras-team/keras-tuner.git\n",
        "!python3 -m pip install autokeras\n"
      ],
      "metadata": {
        "colab": {
          "base_uri": "https://localhost:8080/"
        },
        "id": "iHFvg8Vo5D2g",
        "outputId": "23dfc60f-4772-405a-d03d-69b30b3b6e32"
      },
      "execution_count": null,
      "outputs": [
        {
          "output_type": "stream",
          "name": "stdout",
          "text": [
            "Collecting git+https://github.com/keras-team/keras-tuner.git\n",
            "  Cloning https://github.com/keras-team/keras-tuner.git to /tmp/pip-req-build-67cqr_1y\n",
            "  Running command git clone --filter=blob:none --quiet https://github.com/keras-team/keras-tuner.git /tmp/pip-req-build-67cqr_1y\n",
            "  Resolved https://github.com/keras-team/keras-tuner.git to commit 4709e4b41b53abe7b16348d56a40259029790762\n",
            "  Installing build dependencies ... \u001b[?25l\u001b[?25hdone\n",
            "  Getting requirements to build wheel ... \u001b[?25l\u001b[?25hdone\n",
            "  Preparing metadata (pyproject.toml) ... \u001b[?25l\u001b[?25hdone\n",
            "Requirement already satisfied: packaging in /usr/local/lib/python3.10/dist-packages (from keras-tuner==1.3.5) (23.1)\n",
            "Requirement already satisfied: requests in /usr/local/lib/python3.10/dist-packages (from keras-tuner==1.3.5) (2.25.1)\n",
            "Requirement already satisfied: kt-legacy in /usr/local/lib/python3.10/dist-packages (from keras-tuner==1.3.5) (1.0.5)\n",
            "Requirement already satisfied: chardet<5,>=3.0.2 in /usr/local/lib/python3.10/dist-packages (from requests->keras-tuner==1.3.5) (4.0.0)\n",
            "Requirement already satisfied: idna<3,>=2.5 in /usr/local/lib/python3.10/dist-packages (from requests->keras-tuner==1.3.5) (2.10)\n",
            "Requirement already satisfied: urllib3<1.27,>=1.21.1 in /usr/local/lib/python3.10/dist-packages (from requests->keras-tuner==1.3.5) (1.26.16)\n",
            "Requirement already satisfied: certifi>=2017.4.17 in /usr/local/lib/python3.10/dist-packages (from requests->keras-tuner==1.3.5) (2023.5.7)\n",
            "Requirement already satisfied: autokeras in /usr/local/lib/python3.10/dist-packages (1.1.0)\n",
            "Requirement already satisfied: packaging in /usr/local/lib/python3.10/dist-packages (from autokeras) (23.1)\n",
            "Requirement already satisfied: tensorflow>=2.8.0 in /usr/local/lib/python3.10/dist-packages (from autokeras) (2.12.0)\n",
            "Requirement already satisfied: keras-tuner>=1.1.0 in /usr/local/lib/python3.10/dist-packages (from autokeras) (1.3.5)\n",
            "Requirement already satisfied: keras-nlp>=0.4.0 in /usr/local/lib/python3.10/dist-packages (from autokeras) (0.5.2)\n",
            "Requirement already satisfied: pandas in /usr/local/lib/python3.10/dist-packages (from autokeras) (1.5.3)\n",
            "Requirement already satisfied: absl-py in /usr/local/lib/python3.10/dist-packages (from keras-nlp>=0.4.0->autokeras) (1.4.0)\n",
            "Requirement already satisfied: numpy in /usr/local/lib/python3.10/dist-packages (from keras-nlp>=0.4.0->autokeras) (1.22.4)\n",
            "Requirement already satisfied: tensorflow-text in /usr/local/lib/python3.10/dist-packages (from keras-nlp>=0.4.0->autokeras) (2.12.1)\n",
            "Requirement already satisfied: requests in /usr/local/lib/python3.10/dist-packages (from keras-tuner>=1.1.0->autokeras) (2.25.1)\n",
            "Requirement already satisfied: kt-legacy in /usr/local/lib/python3.10/dist-packages (from keras-tuner>=1.1.0->autokeras) (1.0.5)\n",
            "Requirement already satisfied: astunparse>=1.6.0 in /usr/local/lib/python3.10/dist-packages (from tensorflow>=2.8.0->autokeras) (1.6.3)\n",
            "Requirement already satisfied: flatbuffers>=2.0 in /usr/local/lib/python3.10/dist-packages (from tensorflow>=2.8.0->autokeras) (23.5.26)\n",
            "Requirement already satisfied: gast<=0.4.0,>=0.2.1 in /usr/local/lib/python3.10/dist-packages (from tensorflow>=2.8.0->autokeras) (0.4.0)\n",
            "Requirement already satisfied: google-pasta>=0.1.1 in /usr/local/lib/python3.10/dist-packages (from tensorflow>=2.8.0->autokeras) (0.2.0)\n",
            "Requirement already satisfied: grpcio<2.0,>=1.24.3 in /usr/local/lib/python3.10/dist-packages (from tensorflow>=2.8.0->autokeras) (1.56.0)\n",
            "Requirement already satisfied: h5py>=2.9.0 in /usr/local/lib/python3.10/dist-packages (from tensorflow>=2.8.0->autokeras) (3.8.0)\n",
            "Requirement already satisfied: jax>=0.3.15 in /usr/local/lib/python3.10/dist-packages (from tensorflow>=2.8.0->autokeras) (0.4.10)\n",
            "Requirement already satisfied: keras<2.13,>=2.12.0 in /usr/local/lib/python3.10/dist-packages (from tensorflow>=2.8.0->autokeras) (2.12.0)\n",
            "Requirement already satisfied: libclang>=13.0.0 in /usr/local/lib/python3.10/dist-packages (from tensorflow>=2.8.0->autokeras) (16.0.0)\n",
            "Requirement already satisfied: opt-einsum>=2.3.2 in /usr/local/lib/python3.10/dist-packages (from tensorflow>=2.8.0->autokeras) (3.3.0)\n",
            "Requirement already satisfied: protobuf!=4.21.0,!=4.21.1,!=4.21.2,!=4.21.3,!=4.21.4,!=4.21.5,<5.0.0dev,>=3.20.3 in /usr/local/lib/python3.10/dist-packages (from tensorflow>=2.8.0->autokeras) (3.20.3)\n",
            "Requirement already satisfied: setuptools in /usr/local/lib/python3.10/dist-packages (from tensorflow>=2.8.0->autokeras) (67.7.2)\n",
            "Requirement already satisfied: six>=1.12.0 in /usr/local/lib/python3.10/dist-packages (from tensorflow>=2.8.0->autokeras) (1.16.0)\n",
            "Requirement already satisfied: tensorboard<2.13,>=2.12 in /usr/local/lib/python3.10/dist-packages (from tensorflow>=2.8.0->autokeras) (2.12.3)\n",
            "Requirement already satisfied: tensorflow-estimator<2.13,>=2.12.0 in /usr/local/lib/python3.10/dist-packages (from tensorflow>=2.8.0->autokeras) (2.12.0)\n",
            "Requirement already satisfied: termcolor>=1.1.0 in /usr/local/lib/python3.10/dist-packages (from tensorflow>=2.8.0->autokeras) (2.3.0)\n",
            "Requirement already satisfied: typing-extensions>=3.6.6 in /usr/local/lib/python3.10/dist-packages (from tensorflow>=2.8.0->autokeras) (4.6.3)\n",
            "Requirement already satisfied: wrapt<1.15,>=1.11.0 in /usr/local/lib/python3.10/dist-packages (from tensorflow>=2.8.0->autokeras) (1.14.1)\n",
            "Requirement already satisfied: tensorflow-io-gcs-filesystem>=0.23.1 in /usr/local/lib/python3.10/dist-packages (from tensorflow>=2.8.0->autokeras) (0.32.0)\n",
            "Requirement already satisfied: python-dateutil>=2.8.1 in /usr/local/lib/python3.10/dist-packages (from pandas->autokeras) (2.8.2)\n",
            "Requirement already satisfied: pytz>=2020.1 in /usr/local/lib/python3.10/dist-packages (from pandas->autokeras) (2022.7.1)\n",
            "Requirement already satisfied: wheel<1.0,>=0.23.0 in /usr/local/lib/python3.10/dist-packages (from astunparse>=1.6.0->tensorflow>=2.8.0->autokeras) (0.40.0)\n",
            "Requirement already satisfied: ml-dtypes>=0.1.0 in /usr/local/lib/python3.10/dist-packages (from jax>=0.3.15->tensorflow>=2.8.0->autokeras) (0.2.0)\n",
            "Requirement already satisfied: scipy>=1.7 in /usr/local/lib/python3.10/dist-packages (from jax>=0.3.15->tensorflow>=2.8.0->autokeras) (1.10.1)\n",
            "Requirement already satisfied: google-auth<3,>=1.6.3 in /usr/local/lib/python3.10/dist-packages (from tensorboard<2.13,>=2.12->tensorflow>=2.8.0->autokeras) (2.17.3)\n",
            "Requirement already satisfied: google-auth-oauthlib<1.1,>=0.5 in /usr/local/lib/python3.10/dist-packages (from tensorboard<2.13,>=2.12->tensorflow>=2.8.0->autokeras) (1.0.0)\n",
            "Requirement already satisfied: markdown>=2.6.8 in /usr/local/lib/python3.10/dist-packages (from tensorboard<2.13,>=2.12->tensorflow>=2.8.0->autokeras) (3.4.3)\n",
            "Requirement already satisfied: tensorboard-data-server<0.8.0,>=0.7.0 in /usr/local/lib/python3.10/dist-packages (from tensorboard<2.13,>=2.12->tensorflow>=2.8.0->autokeras) (0.7.1)\n",
            "Requirement already satisfied: werkzeug>=1.0.1 in /usr/local/lib/python3.10/dist-packages (from tensorboard<2.13,>=2.12->tensorflow>=2.8.0->autokeras) (2.3.6)\n",
            "Requirement already satisfied: chardet<5,>=3.0.2 in /usr/local/lib/python3.10/dist-packages (from requests->keras-tuner>=1.1.0->autokeras) (4.0.0)\n",
            "Requirement already satisfied: idna<3,>=2.5 in /usr/local/lib/python3.10/dist-packages (from requests->keras-tuner>=1.1.0->autokeras) (2.10)\n",
            "Requirement already satisfied: urllib3<1.27,>=1.21.1 in /usr/local/lib/python3.10/dist-packages (from requests->keras-tuner>=1.1.0->autokeras) (1.26.16)\n",
            "Requirement already satisfied: certifi>=2017.4.17 in /usr/local/lib/python3.10/dist-packages (from requests->keras-tuner>=1.1.0->autokeras) (2023.5.7)\n",
            "Requirement already satisfied: tensorflow-hub>=0.8.0 in /usr/local/lib/python3.10/dist-packages (from tensorflow-text->keras-nlp>=0.4.0->autokeras) (0.13.0)\n",
            "Requirement already satisfied: cachetools<6.0,>=2.0.0 in /usr/local/lib/python3.10/dist-packages (from google-auth<3,>=1.6.3->tensorboard<2.13,>=2.12->tensorflow>=2.8.0->autokeras) (5.3.1)\n",
            "Requirement already satisfied: pyasn1-modules>=0.2.1 in /usr/local/lib/python3.10/dist-packages (from google-auth<3,>=1.6.3->tensorboard<2.13,>=2.12->tensorflow>=2.8.0->autokeras) (0.3.0)\n",
            "Requirement already satisfied: rsa<5,>=3.1.4 in /usr/local/lib/python3.10/dist-packages (from google-auth<3,>=1.6.3->tensorboard<2.13,>=2.12->tensorflow>=2.8.0->autokeras) (4.9)\n",
            "Requirement already satisfied: requests-oauthlib>=0.7.0 in /usr/local/lib/python3.10/dist-packages (from google-auth-oauthlib<1.1,>=0.5->tensorboard<2.13,>=2.12->tensorflow>=2.8.0->autokeras) (1.3.1)\n",
            "Requirement already satisfied: MarkupSafe>=2.1.1 in /usr/local/lib/python3.10/dist-packages (from werkzeug>=1.0.1->tensorboard<2.13,>=2.12->tensorflow>=2.8.0->autokeras) (2.1.3)\n",
            "Requirement already satisfied: pyasn1<0.6.0,>=0.4.6 in /usr/local/lib/python3.10/dist-packages (from pyasn1-modules>=0.2.1->google-auth<3,>=1.6.3->tensorboard<2.13,>=2.12->tensorflow>=2.8.0->autokeras) (0.5.0)\n",
            "Requirement already satisfied: oauthlib>=3.0.0 in /usr/local/lib/python3.10/dist-packages (from requests-oauthlib>=0.7.0->google-auth-oauthlib<1.1,>=0.5->tensorboard<2.13,>=2.12->tensorflow>=2.8.0->autokeras) (3.2.2)\n"
          ]
        }
      ]
    },
    {
      "cell_type": "code",
      "source": [
        "from timezonefinder import TimezoneFinder\n",
        "states = {\n",
        "    'hi': {\n",
        "        \"state_location\":'hawaii',\n",
        "        \"lat\":21.446911,\n",
        "        \"lon\":-158.188736,\n",
        "        \"elevation\":4.0,\n",
        "        \"fresh_data_time\":'12',\n",
        "        \"reference_id\":\"c639b1f3-eb8f-11ed-802e-aec5a60999dc\",\n",
        "        \"name\":\"Waianae, HI Substation\",    },\n",
        "    'or': {\n",
        "        \"state_location\":'oregon',\n",
        "        \"lat\":45.114559,\n",
        "        \"lon\":-123.204903,\n",
        "        \"elevation\":50.0,\n",
        "        \"fresh_data_time\":'12',\n",
        "        \"reference_id\":\"5ebb4527-edbd-11ed-bf8d-128dcacebd72\",\n",
        "        \"name\":\"Amity, OR Substation\",\n",
        "    },\n",
        "    'tx': {\n",
        "         \"state_location\":'texas',\n",
        "        \"lat\":29.424122,\n",
        "        \"lon\":-98.493629,\n",
        "        \"elevation\":200.0,\n",
        "        \"fresh_data_time\":'06',\n",
        "        \"reference_id\":\"8568f10f-eb8f-11ed-a556-128dcacebd72\",\n",
        "        \"name\":\"San Antonio, TX Substation\",\n",
        "\n",
        "    },\n",
        "    'ga': {\n",
        "        \"state_location\":'georgia',\n",
        "        \"lat\":31.044241,\n",
        "        \"lon\":-84.879128,\n",
        "        \"elevation\":0.0,\n",
        "        \"fresh_data_time\":'06',\n",
        "        \"reference_id\":\"90c2a42c-f0ad-11ed-94b4-5edf5e2b3336\",\n",
        "        \"name\":\"Donalsonville, GA Substation\"\n",
        "    },\n",
        "\n",
        "}\n",
        "\n",
        "tf = TimezoneFinder(in_memory=True)\n",
        "for state in states:\n",
        "  local_time_zone = tf.timezone_at(lng = states[state]['lon'], lat = states[state]['lat'])\n",
        "  states[state]['local_time_zone'] = local_time_zone\n",
        "\n",
        "\n",
        "tx_lon = -98.493629\n",
        "tx_lat = 29.424122\n",
        "ga_lon = -84.879128\n",
        "ga_lat = 31.044241\n",
        "or_lon = -123.204903\n",
        "or_lat = 45.114559\n",
        "hi_lat = 21.446911\n",
        "hi_lon = -158.188736\n",
        "\n",
        "\n",
        "\n",
        "from solarforecastarbiter.io import api\n",
        "def upload_function(data_df, state = 'hi'):\n",
        "    email = 'nlf2023-coral@forecastarbiter.com'\n",
        "    pwd =  'T3&b@O*KiGf$a@!@3LBv'\n",
        "    token = api.request_cli_access_token(email, pwd)\n",
        "    session = api.APISession(token, base_url=\"https://api.forecastarbiter.com\")\n",
        "    if state == 'hi':\n",
        "\n",
        "        hawaii_forecast_ids = [\n",
        "           [\"60534840-0044-11ee-8096-22bbbfba48a8\", \"p0\"],\n",
        "           [\"60551d2e-0044-11ee-aea4-22bbbfba48a8\", \"p10\"],\n",
        "           [\"60577a7c-0044-11ee-9d93-22bbbfba48a8\", \"p20\"],\n",
        "           [\"6059b4ae-0044-11ee-b9f7-22bbbfba48a8\", \"p30\"],\n",
        "           [\"605c7e09-0044-11ee-88c5-22bbbfba48a8\", \"p40\"],\n",
        "           [\"605f5aad-0044-11ee-a68f-22bbbfba48a8\", \"p50\"],\n",
        "           [\"6061a141-0044-11ee-b645-22bbbfba48a8\", \"p60\"],\n",
        "           [\"6063f5d3-0044-11ee-a725-22bbbfba48a8\", \"p70\"],\n",
        "           [\"606656a8-0044-11ee-aca6-22bbbfba48a8\", \"p80\"],\n",
        "           [\"6069aa58-0044-11ee-b4a8-22bbbfba48a8\", \"p90\"],\n",
        "           [\"606c387a-0044-11ee-92ea-22bbbfba48a8\", \"p100\"],\n",
        "        ]\n",
        "        for uuid, col in hawaii_forecast_ids:\n",
        "            upload_df = data_df[col]\n",
        "            upload_df = upload_df.rename('value')\n",
        "            session.post_probabilistic_forecast_constant_value_values(uuid, upload_df)\n",
        "\n",
        "        return\n",
        "    if state == 'tx':\n",
        "        tx_forecast_ids = [\n",
        "           [\"51936f7f-0044-11ee-8006-22bbbfba48a8\", \"p0\"],\n",
        "           [\"5195a4a9-0044-11ee-9abe-22bbbfba48a8\", \"p10\"],\n",
        "           [\"5199b969-0044-11ee-8c5b-22bbbfba48a8\", \"p20\"],\n",
        "           [\"519be6af-0044-11ee-aa1b-22bbbfba48a8\", \"p30\"],\n",
        "           [\"519e4691-0044-11ee-ace3-22bbbfba48a8\", \"p40\"],\n",
        "           [\"51a07836-0044-11ee-b70a-22bbbfba48a8\", \"p50\"],\n",
        "           [\"51a2b229-0044-11ee-9369-22bbbfba48a8\", \"p60\"],\n",
        "           [\"51a54811-0044-11ee-9b1c-22bbbfba48a8\", \"p70\"],\n",
        "           [\"51a78587-0044-11ee-ac5f-22bbbfba48a8\", \"p80\"],\n",
        "           [\"51a96889-0044-11ee-95de-22bbbfba48a8\", \"p90\"],\n",
        "           [\"51ac716f-0044-11ee-96a0-22bbbfba48a8\", \"p100\"],\n",
        "        ]\n",
        "        for uuid, col in tx_forecast_ids:\n",
        "            upload_df = data_df[col]\n",
        "            upload_df = upload_df.rename('value')\n",
        "            session.post_probabilistic_forecast_constant_value_values(uuid, upload_df)\n",
        "\n",
        "        return\n",
        "    if state == 'or':\n",
        "\n",
        "        or_forecast_ids = [\n",
        "           [\"58ea38ee-0044-11ee-abf9-aa678857fb1c\", \"p0\"],\n",
        "           [\"58ecd0ac-0044-11ee-96ef-aa678857fb1c\", \"p10\"],\n",
        "           [\"58efa6af-0044-11ee-a87e-aa678857fb1c\", \"p20\"],\n",
        "           [\"58f2856f-0044-11ee-94d6-aa678857fb1c\", \"p30\"],\n",
        "           [\"58f4d11c-0044-11ee-80ca-aa678857fb1c\", \"p40\"],\n",
        "           [\"58f792d8-0044-11ee-869d-aa678857fb1c\", \"p50\"],\n",
        "           [\"58fa355e-0044-11ee-881a-aa678857fb1c\", \"p60\"],\n",
        "           [\"58fc98a1-0044-11ee-b2cb-aa678857fb1c\", \"p70\"],\n",
        "           [\"58ff236c-0044-11ee-ba4c-aa678857fb1c\", \"p80\"],\n",
        "           [\"5901b51f-0044-11ee-aae2-aa678857fb1c\", \"p90\"],\n",
        "           [\"59045e2b-0044-11ee-8914-aa678857fb1c\", \"p100\"],\n",
        "        ]\n",
        "        for uuid, col in or_forecast_ids:\n",
        "            upload_df = data_df[col]\n",
        "            upload_df = upload_df.rename('value')\n",
        "            session.post_probabilistic_forecast_constant_value_values(uuid, upload_df)\n",
        "\n",
        "        return\n",
        "    if state == 'ga':\n",
        "\n",
        "        ga_forecast_ids = [\n",
        "           [\"493ba331-0044-11ee-936c-aa678857fb1c\", \"p0\"],\n",
        "           [\"493e3bce-0044-11ee-bdf4-aa678857fb1c\", \"p10\"],\n",
        "           [\"4940a921-0044-11ee-8e27-aa678857fb1c\", \"p20\"],\n",
        "           [\"49431d34-0044-11ee-a476-aa678857fb1c\", \"p30\"],\n",
        "           [\"4945f80a-0044-11ee-8674-aa678857fb1c\", \"p40\"],\n",
        "           [\"49489e6d-0044-11ee-8ce3-aa678857fb1c\", \"p50\"],\n",
        "           [\"494b350e-0044-11ee-b5bc-aa678857fb1c\", \"p60\"],\n",
        "           [\"494fe072-0044-11ee-bb2d-aa678857fb1c\", \"p70\"],\n",
        "           [\"4952cab3-0044-11ee-afa5-aa678857fb1c\", \"p80\"],\n",
        "           [\"4955940c-0044-11ee-a0c7-aa678857fb1c\", \"p90\"],\n",
        "           [\"495827d0-0044-11ee-83b0-aa678857fb1c\", \"p100\"],\n",
        "        ]\n",
        "\n",
        "        for uuid, col in ga_forecast_ids:\n",
        "            upload_df = data_df[col]\n",
        "            upload_df = upload_df.rename('value')\n",
        "            print(upload_df)\n",
        "            session.post_probabilistic_forecast_constant_value_values(uuid, upload_df)\n",
        "\n",
        "        return\n",
        "\n",
        "\n",
        "def get_reference_forecasts(location, start_date, end_date):\n",
        "    # Access related parameters for Net Load Forecast Site\n",
        "    email = 'nlf2023-coral@forecastarbiter.com'\n",
        "    pwd =  'T3&b@O*KiGf$a@!@3LBv'\n",
        "    start_datetime = start_date + ' 01:00:00'\n",
        "    end_datetime = end_date + ' 00:00:00'\n",
        "    #Reference Probablistic Persistance Ensemble Forecast\n",
        "    locations = {'4a3de81c-0043-11ee-a474-aa678857fb1c':['Pacific/Honolulu','Waianae_Hawaii'],\n",
        "                '49cdf54e-0043-11ee-a581-aa678857fb1c':['America/Los_Angeles','Amity_OR'],\n",
        "                '496055a3-0043-11ee-ada4-aa678857fb1c':['America/Chicago','SanAntonio_TX'],\n",
        "                '3b6b45e3-0043-11ee-bfe9-aa678857fb1c':['America/New_York','Donalsonville_GA']}\n",
        "    locations_uuids = {\n",
        "        'hi':'4a3de81c-0043-11ee-a474-aa678857fb1c',\n",
        "        'or':'49cdf54e-0043-11ee-a581-aa678857fb1c',\n",
        "        'tx':'496055a3-0043-11ee-ada4-aa678857fb1c',\n",
        "        'ga':'3b6b45e3-0043-11ee-bfe9-aa678857fb1c'\n",
        "    }\n",
        "    # for uuid in locations.keys():\n",
        "    uuid = locations_uuids[location]\n",
        "    tmz=locations[uuid][0]\n",
        "\n",
        "    token = api.request_cli_access_token(email, pwd)\n",
        "    session = api.APISession(token, base_url=\"https://api.forecastarbiter.com\")\n",
        "\n",
        "    session.get_probabilistic_forecast(uuid)\n",
        "\n",
        "    start = pd.Timestamp(start_datetime).tz_localize(tmz)\n",
        "    end = pd.Timestamp(end_datetime).tz_localize(tmz)\n",
        "    fdf = session.get_probabilistic_forecast_values(uuid, start, end)\n",
        "    fdf = fdf.reset_index('timestamp')\n",
        "    fdf = fdf.rename(columns = {'timestamp':'time'})\n",
        "    fdf.time = fdf.time.dt.tz_convert(tmz)\n",
        "    fdf.time = fdf.time.dt.tz_localize(None)\n",
        "    return fdf\n",
        "\n",
        "def crps_and_crpss_scores(obs, predictions, start_date, end_date, location):\n",
        "\n",
        "    fx_prob = torch.tensor([i for i in range(0,110,10)]).unsqueeze(0).repeat(24,1).numpy()\n",
        "    reference_df = get_reference_forecasts(location, start_date, end_date)\n",
        "    reference_val = reference_df.drop(columns = 'time').values\n",
        "\n",
        "    crps = continuous_ranked_probability_score(obs, predictions, fx_prob)\n",
        "    crpss = crps_skill_score(obs, predictions,  fx_prob, reference_val, fx_prob)\n",
        "\n",
        "    return crps, crpss, reference_df\n",
        "\n",
        "def calculate_reference(start_time, end_time, location):\n",
        "    def load_data(obs, start_date, end_date):\n",
        "      return total_data[(total_data.time >= pd.to_datetime(start_date)) & (total_data.time <= pd.to_datetime(end_date))][['time','value']].set_index('time')\n",
        "\n",
        "    name = states[location]['name']\n",
        "    latitude = states[location]['lat']\n",
        "    longitude = states[location]['lon']\n",
        "    elevation = states[location]['elevation']\n",
        "    timezone = states[location]['local_time_zone']\n",
        "    site_id = states[location]['reference_id']\n",
        "    site = Site(name = name, latitude = latitude, longitude = longitude, elevation = elevation,\n",
        "                timezone = timezone, site_id = site_id)\n",
        "\n",
        "    variable = 'net_load'\n",
        "    interval_value_type = 'interval_mean'\n",
        "    interval_length = pd.Timedelta(value = 1, unit = 'hour')\n",
        "    interval_label = 'ending'\n",
        "    site = site\n",
        "    uncertainty = 0\n",
        "    obs = Observation(name = name, variable = variable,\n",
        "                      interval_value_type = interval_value_type,\n",
        "                      interval_length = interval_length,\n",
        "                      interval_label = interval_label,\n",
        "                      site = site, uncertainty = uncertainty)\n",
        "\n",
        "    observation  = obs\n",
        "    forecast_start = pd.to_datetime(start_time + ' 00:00:00')\n",
        "    forecast_end  = pd.to_datetime(end_time + ' 00:00:00')\n",
        "    data_start  = forecast_start - pd.Timedelta(value = 30, unit = 'D')\n",
        "    data_end = forecast_start #- pd.Timedelta(value = 1, unit = 'D')\n",
        "    interval_length = interval_length\n",
        "    interval_label = 'ending'\n",
        "    load_data = load_data\n",
        "    axis = 'x'\n",
        "    constant_values = np.array([x for x in range(0,110,10)])\n",
        "\n",
        "\n",
        "    baseline = persistence_probabilistic_timeofday(observation = obs,\n",
        "                                        data_start = data_start,\n",
        "                                        data_end = data_end,\n",
        "                                        forecast_start = forecast_start,\n",
        "                                        forecast_end = forecast_end,\n",
        "                                        interval_length = interval_length,\n",
        "                                        interval_label = interval_label,\n",
        "                                        load_data = load_data,\n",
        "                                        axis = 'y',\n",
        "                                        constant_values = constant_values)\n",
        "    baseline = pd.concat(baseline, axis = 1)\n",
        "    baseline = baseline.reset_index().rename(columns = {'index':'time'}).rename(columns = {i:'p'+str(i*10) for i in range(11)})\n",
        "\n",
        "    return baseline"
      ],
      "metadata": {
        "id": "HqPE3arj4Fug"
      },
      "execution_count": null,
      "outputs": []
    },
    {
      "cell_type": "code",
      "source": [],
      "metadata": {
        "id": "Hsk2Htxh-lCY"
      },
      "execution_count": null,
      "outputs": []
    },
    {
      "cell_type": "code",
      "source": [
        "\n",
        "state_location = 'hi'\n",
        "\n",
        "training_data = pd.read_csv('/content/drive/MyDrive/net_load_forecasting/training_datasets/{}_historical.csv'.format(states[state_location]['state_location'])).drop(columns = 'quality_flag')\n",
        "total_data = pd.read_csv('/content/drive/MyDrive/net_load_forecasting/training_datasets/hawaii_2022-01-01-2023-06-28_total.csv'.format(states[state_location]['state_location']))\n",
        "test_data = pd.read_csv('/content/drive/MyDrive/net_load_forecasting/test_datasets/{}_2023-07-04_test.csv'.format(states[state_location]['state_location'])).drop(columns = 'quality_flag')\n",
        "\n",
        "\n",
        "\n",
        "\n"
      ],
      "metadata": {
        "id": "a4cdOYe54St5"
      },
      "execution_count": null,
      "outputs": []
    },
    {
      "cell_type": "code",
      "source": [
        "import autokeras as ak\n"
      ],
      "metadata": {
        "id": "8F-X6ad8JdOO"
      },
      "execution_count": null,
      "outputs": []
    },
    {
      "cell_type": "code",
      "source": [
        "total_data.time = pd.to_datetime(total_data.time)\n",
        "\n",
        "training_data.time = pd.to_datetime(training_data.time)\n",
        "test_data.time = pd.to_datetime(test_data.time)\n",
        "\n",
        "\n",
        "# training_data = training_data[training_data.time <= '2023-03-10 00:00:00']\n",
        "\n",
        "training_data['hours'] = np.sin((training_data.time.dt.hour - 12) / 24)\n",
        "test_data['hours'] = np.sin((test_data.time.dt.hour - 12) / 24)\n",
        "\n",
        "training_data['sunrise'] = pd.to_datetime(training_data.sunrise)\n",
        "training_data['sunset'] = pd.to_datetime(training_data.sunset)\n",
        "\n",
        "training_data.sunrise = np.sin((training_data.sunrise.dt.hour + (training_data.sunrise.dt.minute / 60) - 12) / 24)\n",
        "training_data.sunset = np.sin((training_data.sunset.dt.hour + (training_data.sunset.dt.minute / 60) - 12) / 24)\n",
        "\n",
        "\n",
        "\n",
        "\n",
        "test_data['sunrise'] = pd.to_datetime(test_data.sunrise)\n",
        "test_data['sunset'] = pd.to_datetime(test_data.sunset)\n",
        "\n",
        "test_data.sunrise = np.sin((test_data.sunrise.dt.hour + (test_data.sunrise.dt.minute / 60) - 12) / 24)\n",
        "test_data.sunset = np.sin((test_data.sunset.dt.hour + (test_data.sunset.dt.minute / 60) - 12) / 24)\n",
        "\n",
        "\n",
        "training_data['month'] = np.sin(training_data.time.dt.month / 12)\n",
        "test_data['month'] = np.sin(test_data.time.dt.month / 12)\n",
        "\n",
        "train_data = training_data[(training_data.time <= '2023-03-13 00:00:00')]\n",
        "val_data = training_data[(training_data.time >= '2023-03-22 00:00:00')\n",
        "                        & (training_data.time <= '2023-05-31 00:00:00')]"
      ],
      "metadata": {
        "id": "YWRaDJ894cQh"
      },
      "execution_count": null,
      "outputs": []
    },
    {
      "cell_type": "code",
      "source": [
        "def pre_process(data):\n",
        "    old_cols = train_data.drop(columns = 'time').columns\n",
        "    lookback_start = 5\n",
        "    lookback_dim = 10\n",
        "    lookback_end = lookback_dim + lookback_start - 1\n",
        "    trend_features = len(old_cols) * lookback_dim\n",
        "    for i in range(lookback_start, lookback_end + 1):\n",
        "        # new_cols = ['prev_{}'.format(i) + '_' + col for col in old_cols]\n",
        "        data['prev_{}_value'.format(i)] = None#\n",
        "        data.loc[:,'prev_{}_value'.format(i)] = data.shift(i * 24).value\n",
        "        # data['prev_{}_dist'.format(i)] = None\n",
        "        # data.loc[:,'prev_{}_dist'.format(i)] = -1 * i\n",
        "\n",
        "\n",
        "    data = data[data['prev_{}_value'.format(lookback_end)].isna() == False]\n",
        "    data['std_hour'] = data[['prev_{}_value'.format(i) for i in range(lookback_start, lookback_end + 1)]].std(axis = 1)\n",
        "    old_cols = list(old_cols)\n",
        "    old_cols.append('std_hour')\n",
        "\n",
        "    # X = data.drop(columns = ['time','value','std_hour'])\n",
        "    # y = data['value'].values\n",
        "    return data"
      ],
      "metadata": {
        "id": "uuWVMMn3Ejip"
      },
      "execution_count": null,
      "outputs": []
    },
    {
      "cell_type": "code",
      "source": [
        "data = pre_process(train_data)\n",
        "X = data.drop(columns = ['time','value','std_hour'])\n",
        "y = data['value'].values"
      ],
      "metadata": {
        "colab": {
          "base_uri": "https://localhost:8080/"
        },
        "id": "EPYuhUvg4rfa",
        "outputId": "24b8a866-865b-47d9-fde5-bd523158077e"
      },
      "execution_count": null,
      "outputs": [
        {
          "output_type": "stream",
          "name": "stderr",
          "text": [
            "<ipython-input-79-63ad3c730c68>:9: SettingWithCopyWarning: \n",
            "A value is trying to be set on a copy of a slice from a DataFrame.\n",
            "Try using .loc[row_indexer,col_indexer] = value instead\n",
            "\n",
            "See the caveats in the documentation: https://pandas.pydata.org/pandas-docs/stable/user_guide/indexing.html#returning-a-view-versus-a-copy\n",
            "  data['prev_{}_value'.format(i)] = None#\n",
            "<ipython-input-79-63ad3c730c68>:10: SettingWithCopyWarning: \n",
            "A value is trying to be set on a copy of a slice from a DataFrame.\n",
            "Try using .loc[row_indexer,col_indexer] = value instead\n",
            "\n",
            "See the caveats in the documentation: https://pandas.pydata.org/pandas-docs/stable/user_guide/indexing.html#returning-a-view-versus-a-copy\n",
            "  data.loc[:,'prev_{}_value'.format(i)] = data.shift(i * 24).value\n",
            "<ipython-input-79-63ad3c730c68>:10: DeprecationWarning: In a future version, `df.iloc[:, i] = newvals` will attempt to set the values inplace instead of always setting a new array. To retain the old behavior, use either `df[df.columns[i]] = newvals` or, if columns are non-unique, `df.isetitem(i, newvals)`\n",
            "  data.loc[:,'prev_{}_value'.format(i)] = data.shift(i * 24).value\n",
            "<ipython-input-79-63ad3c730c68>:9: SettingWithCopyWarning: \n",
            "A value is trying to be set on a copy of a slice from a DataFrame.\n",
            "Try using .loc[row_indexer,col_indexer] = value instead\n",
            "\n",
            "See the caveats in the documentation: https://pandas.pydata.org/pandas-docs/stable/user_guide/indexing.html#returning-a-view-versus-a-copy\n",
            "  data['prev_{}_value'.format(i)] = None#\n",
            "<ipython-input-79-63ad3c730c68>:10: SettingWithCopyWarning: \n",
            "A value is trying to be set on a copy of a slice from a DataFrame.\n",
            "Try using .loc[row_indexer,col_indexer] = value instead\n",
            "\n",
            "See the caveats in the documentation: https://pandas.pydata.org/pandas-docs/stable/user_guide/indexing.html#returning-a-view-versus-a-copy\n",
            "  data.loc[:,'prev_{}_value'.format(i)] = data.shift(i * 24).value\n",
            "<ipython-input-79-63ad3c730c68>:10: DeprecationWarning: In a future version, `df.iloc[:, i] = newvals` will attempt to set the values inplace instead of always setting a new array. To retain the old behavior, use either `df[df.columns[i]] = newvals` or, if columns are non-unique, `df.isetitem(i, newvals)`\n",
            "  data.loc[:,'prev_{}_value'.format(i)] = data.shift(i * 24).value\n",
            "<ipython-input-79-63ad3c730c68>:9: SettingWithCopyWarning: \n",
            "A value is trying to be set on a copy of a slice from a DataFrame.\n",
            "Try using .loc[row_indexer,col_indexer] = value instead\n",
            "\n",
            "See the caveats in the documentation: https://pandas.pydata.org/pandas-docs/stable/user_guide/indexing.html#returning-a-view-versus-a-copy\n",
            "  data['prev_{}_value'.format(i)] = None#\n",
            "<ipython-input-79-63ad3c730c68>:10: SettingWithCopyWarning: \n",
            "A value is trying to be set on a copy of a slice from a DataFrame.\n",
            "Try using .loc[row_indexer,col_indexer] = value instead\n",
            "\n",
            "See the caveats in the documentation: https://pandas.pydata.org/pandas-docs/stable/user_guide/indexing.html#returning-a-view-versus-a-copy\n",
            "  data.loc[:,'prev_{}_value'.format(i)] = data.shift(i * 24).value\n",
            "<ipython-input-79-63ad3c730c68>:10: DeprecationWarning: In a future version, `df.iloc[:, i] = newvals` will attempt to set the values inplace instead of always setting a new array. To retain the old behavior, use either `df[df.columns[i]] = newvals` or, if columns are non-unique, `df.isetitem(i, newvals)`\n",
            "  data.loc[:,'prev_{}_value'.format(i)] = data.shift(i * 24).value\n",
            "<ipython-input-79-63ad3c730c68>:9: SettingWithCopyWarning: \n",
            "A value is trying to be set on a copy of a slice from a DataFrame.\n",
            "Try using .loc[row_indexer,col_indexer] = value instead\n",
            "\n",
            "See the caveats in the documentation: https://pandas.pydata.org/pandas-docs/stable/user_guide/indexing.html#returning-a-view-versus-a-copy\n",
            "  data['prev_{}_value'.format(i)] = None#\n",
            "<ipython-input-79-63ad3c730c68>:10: SettingWithCopyWarning: \n",
            "A value is trying to be set on a copy of a slice from a DataFrame.\n",
            "Try using .loc[row_indexer,col_indexer] = value instead\n",
            "\n",
            "See the caveats in the documentation: https://pandas.pydata.org/pandas-docs/stable/user_guide/indexing.html#returning-a-view-versus-a-copy\n",
            "  data.loc[:,'prev_{}_value'.format(i)] = data.shift(i * 24).value\n",
            "<ipython-input-79-63ad3c730c68>:10: DeprecationWarning: In a future version, `df.iloc[:, i] = newvals` will attempt to set the values inplace instead of always setting a new array. To retain the old behavior, use either `df[df.columns[i]] = newvals` or, if columns are non-unique, `df.isetitem(i, newvals)`\n",
            "  data.loc[:,'prev_{}_value'.format(i)] = data.shift(i * 24).value\n",
            "<ipython-input-79-63ad3c730c68>:9: SettingWithCopyWarning: \n",
            "A value is trying to be set on a copy of a slice from a DataFrame.\n",
            "Try using .loc[row_indexer,col_indexer] = value instead\n",
            "\n",
            "See the caveats in the documentation: https://pandas.pydata.org/pandas-docs/stable/user_guide/indexing.html#returning-a-view-versus-a-copy\n",
            "  data['prev_{}_value'.format(i)] = None#\n",
            "<ipython-input-79-63ad3c730c68>:10: SettingWithCopyWarning: \n",
            "A value is trying to be set on a copy of a slice from a DataFrame.\n",
            "Try using .loc[row_indexer,col_indexer] = value instead\n",
            "\n",
            "See the caveats in the documentation: https://pandas.pydata.org/pandas-docs/stable/user_guide/indexing.html#returning-a-view-versus-a-copy\n",
            "  data.loc[:,'prev_{}_value'.format(i)] = data.shift(i * 24).value\n",
            "<ipython-input-79-63ad3c730c68>:10: DeprecationWarning: In a future version, `df.iloc[:, i] = newvals` will attempt to set the values inplace instead of always setting a new array. To retain the old behavior, use either `df[df.columns[i]] = newvals` or, if columns are non-unique, `df.isetitem(i, newvals)`\n",
            "  data.loc[:,'prev_{}_value'.format(i)] = data.shift(i * 24).value\n",
            "<ipython-input-79-63ad3c730c68>:9: SettingWithCopyWarning: \n",
            "A value is trying to be set on a copy of a slice from a DataFrame.\n",
            "Try using .loc[row_indexer,col_indexer] = value instead\n",
            "\n",
            "See the caveats in the documentation: https://pandas.pydata.org/pandas-docs/stable/user_guide/indexing.html#returning-a-view-versus-a-copy\n",
            "  data['prev_{}_value'.format(i)] = None#\n",
            "<ipython-input-79-63ad3c730c68>:10: SettingWithCopyWarning: \n",
            "A value is trying to be set on a copy of a slice from a DataFrame.\n",
            "Try using .loc[row_indexer,col_indexer] = value instead\n",
            "\n",
            "See the caveats in the documentation: https://pandas.pydata.org/pandas-docs/stable/user_guide/indexing.html#returning-a-view-versus-a-copy\n",
            "  data.loc[:,'prev_{}_value'.format(i)] = data.shift(i * 24).value\n",
            "<ipython-input-79-63ad3c730c68>:10: DeprecationWarning: In a future version, `df.iloc[:, i] = newvals` will attempt to set the values inplace instead of always setting a new array. To retain the old behavior, use either `df[df.columns[i]] = newvals` or, if columns are non-unique, `df.isetitem(i, newvals)`\n",
            "  data.loc[:,'prev_{}_value'.format(i)] = data.shift(i * 24).value\n",
            "<ipython-input-79-63ad3c730c68>:9: SettingWithCopyWarning: \n",
            "A value is trying to be set on a copy of a slice from a DataFrame.\n",
            "Try using .loc[row_indexer,col_indexer] = value instead\n",
            "\n",
            "See the caveats in the documentation: https://pandas.pydata.org/pandas-docs/stable/user_guide/indexing.html#returning-a-view-versus-a-copy\n",
            "  data['prev_{}_value'.format(i)] = None#\n",
            "<ipython-input-79-63ad3c730c68>:10: SettingWithCopyWarning: \n",
            "A value is trying to be set on a copy of a slice from a DataFrame.\n",
            "Try using .loc[row_indexer,col_indexer] = value instead\n",
            "\n",
            "See the caveats in the documentation: https://pandas.pydata.org/pandas-docs/stable/user_guide/indexing.html#returning-a-view-versus-a-copy\n",
            "  data.loc[:,'prev_{}_value'.format(i)] = data.shift(i * 24).value\n",
            "<ipython-input-79-63ad3c730c68>:10: DeprecationWarning: In a future version, `df.iloc[:, i] = newvals` will attempt to set the values inplace instead of always setting a new array. To retain the old behavior, use either `df[df.columns[i]] = newvals` or, if columns are non-unique, `df.isetitem(i, newvals)`\n",
            "  data.loc[:,'prev_{}_value'.format(i)] = data.shift(i * 24).value\n",
            "<ipython-input-79-63ad3c730c68>:9: SettingWithCopyWarning: \n",
            "A value is trying to be set on a copy of a slice from a DataFrame.\n",
            "Try using .loc[row_indexer,col_indexer] = value instead\n",
            "\n",
            "See the caveats in the documentation: https://pandas.pydata.org/pandas-docs/stable/user_guide/indexing.html#returning-a-view-versus-a-copy\n",
            "  data['prev_{}_value'.format(i)] = None#\n",
            "<ipython-input-79-63ad3c730c68>:10: SettingWithCopyWarning: \n",
            "A value is trying to be set on a copy of a slice from a DataFrame.\n",
            "Try using .loc[row_indexer,col_indexer] = value instead\n",
            "\n",
            "See the caveats in the documentation: https://pandas.pydata.org/pandas-docs/stable/user_guide/indexing.html#returning-a-view-versus-a-copy\n",
            "  data.loc[:,'prev_{}_value'.format(i)] = data.shift(i * 24).value\n",
            "<ipython-input-79-63ad3c730c68>:10: DeprecationWarning: In a future version, `df.iloc[:, i] = newvals` will attempt to set the values inplace instead of always setting a new array. To retain the old behavior, use either `df[df.columns[i]] = newvals` or, if columns are non-unique, `df.isetitem(i, newvals)`\n",
            "  data.loc[:,'prev_{}_value'.format(i)] = data.shift(i * 24).value\n",
            "<ipython-input-79-63ad3c730c68>:9: SettingWithCopyWarning: \n",
            "A value is trying to be set on a copy of a slice from a DataFrame.\n",
            "Try using .loc[row_indexer,col_indexer] = value instead\n",
            "\n",
            "See the caveats in the documentation: https://pandas.pydata.org/pandas-docs/stable/user_guide/indexing.html#returning-a-view-versus-a-copy\n",
            "  data['prev_{}_value'.format(i)] = None#\n",
            "<ipython-input-79-63ad3c730c68>:10: SettingWithCopyWarning: \n",
            "A value is trying to be set on a copy of a slice from a DataFrame.\n",
            "Try using .loc[row_indexer,col_indexer] = value instead\n",
            "\n",
            "See the caveats in the documentation: https://pandas.pydata.org/pandas-docs/stable/user_guide/indexing.html#returning-a-view-versus-a-copy\n",
            "  data.loc[:,'prev_{}_value'.format(i)] = data.shift(i * 24).value\n",
            "<ipython-input-79-63ad3c730c68>:10: DeprecationWarning: In a future version, `df.iloc[:, i] = newvals` will attempt to set the values inplace instead of always setting a new array. To retain the old behavior, use either `df[df.columns[i]] = newvals` or, if columns are non-unique, `df.isetitem(i, newvals)`\n",
            "  data.loc[:,'prev_{}_value'.format(i)] = data.shift(i * 24).value\n",
            "<ipython-input-79-63ad3c730c68>:9: SettingWithCopyWarning: \n",
            "A value is trying to be set on a copy of a slice from a DataFrame.\n",
            "Try using .loc[row_indexer,col_indexer] = value instead\n",
            "\n",
            "See the caveats in the documentation: https://pandas.pydata.org/pandas-docs/stable/user_guide/indexing.html#returning-a-view-versus-a-copy\n",
            "  data['prev_{}_value'.format(i)] = None#\n",
            "<ipython-input-79-63ad3c730c68>:10: SettingWithCopyWarning: \n",
            "A value is trying to be set on a copy of a slice from a DataFrame.\n",
            "Try using .loc[row_indexer,col_indexer] = value instead\n",
            "\n",
            "See the caveats in the documentation: https://pandas.pydata.org/pandas-docs/stable/user_guide/indexing.html#returning-a-view-versus-a-copy\n",
            "  data.loc[:,'prev_{}_value'.format(i)] = data.shift(i * 24).value\n",
            "<ipython-input-79-63ad3c730c68>:10: DeprecationWarning: In a future version, `df.iloc[:, i] = newvals` will attempt to set the values inplace instead of always setting a new array. To retain the old behavior, use either `df[df.columns[i]] = newvals` or, if columns are non-unique, `df.isetitem(i, newvals)`\n",
            "  data.loc[:,'prev_{}_value'.format(i)] = data.shift(i * 24).value\n",
            "<ipython-input-79-63ad3c730c68>:16: SettingWithCopyWarning: \n",
            "A value is trying to be set on a copy of a slice from a DataFrame.\n",
            "Try using .loc[row_indexer,col_indexer] = value instead\n",
            "\n",
            "See the caveats in the documentation: https://pandas.pydata.org/pandas-docs/stable/user_guide/indexing.html#returning-a-view-versus-a-copy\n",
            "  data['std_hour'] = data[['prev_{}_value'.format(i) for i in range(lookback_start, lookback_end + 1)]].std(axis = 1)\n"
          ]
        }
      ]
    },
    {
      "cell_type": "code",
      "source": [
        "X_train = X.values[-35 * 24:]\n",
        "y_train = y[-35 * 24:]\n",
        "\n",
        "X_test = X.values[:-35 * 24]\n",
        "y_test = y[:-35 * 24]"
      ],
      "metadata": {
        "id": "q1Bbm8qO9CIJ"
      },
      "execution_count": null,
      "outputs": []
    },
    {
      "cell_type": "code",
      "source": [
        "reg = ak.StructuredDataRegressor(max_trials=100, overwrite=True)\n",
        "# Feed the structured data regressor with training data.\n",
        "reg.fit(X_train, y_train, epochs=10)\n",
        "# Predict with the best model.\n",
        "predicted_y = reg.predict(X_test)\n",
        "# Evaluate the best model with testing data.\n",
        "print(reg.evaluate(X_test, y_test))\n"
      ],
      "metadata": {
        "colab": {
          "base_uri": "https://localhost:8080/"
        },
        "id": "LQfmTjJH9tq0",
        "outputId": "ae56d8ec-7460-49f7-f0fa-4e826f414a9f"
      },
      "execution_count": null,
      "outputs": [
        {
          "metadata": {
            "tags": null
          },
          "name": "stdout",
          "output_type": "stream",
          "text": [
            "Trial 87 Complete [00h 00m 08s]\n",
            "val_loss: 0.08569278568029404\n",
            "\n",
            "Best val_loss So Far: 0.015773937106132507\n",
            "Total elapsed time: 00h 11m 20s\n",
            "Epoch 1/10\n",
            "27/27 [==============================] - 1s 14ms/step - loss: 0.1608 - mean_squared_error: 0.1608\n",
            "Epoch 2/10\n",
            "27/27 [==============================] - 0s 14ms/step - loss: 0.0679 - mean_squared_error: 0.0679\n",
            "Epoch 3/10\n",
            "27/27 [==============================] - 0s 14ms/step - loss: 0.0812 - mean_squared_error: 0.0812\n",
            "Epoch 4/10\n",
            "27/27 [==============================] - 0s 15ms/step - loss: 0.0638 - mean_squared_error: 0.0638\n",
            "Epoch 5/10\n",
            "27/27 [==============================] - 0s 14ms/step - loss: 0.0537 - mean_squared_error: 0.0537\n",
            "Epoch 6/10\n",
            "27/27 [==============================] - 0s 14ms/step - loss: 0.0360 - mean_squared_error: 0.0360\n",
            "Epoch 7/10\n",
            "27/27 [==============================] - 0s 14ms/step - loss: 0.0384 - mean_squared_error: 0.0384\n",
            "Epoch 8/10\n",
            "27/27 [==============================] - 0s 14ms/step - loss: 0.0186 - mean_squared_error: 0.0186\n",
            "Epoch 9/10\n",
            "27/27 [==============================] - 0s 14ms/step - loss: 0.0168 - mean_squared_error: 0.0168\n",
            "Epoch 10/10\n",
            "27/27 [==============================] - 0s 15ms/step - loss: 0.0151 - mean_squared_error: 0.0151\n"
          ]
        },
        {
          "metadata": {
            "tags": null
          },
          "name": "stderr",
          "output_type": "stream",
          "text": [
            "WARNING:absl:Found untraced functions such as _update_step_xla while saving (showing 1 of 1). These functions will not be directly callable after loading.\n"
          ]
        },
        {
          "metadata": {
            "tags": null
          },
          "name": "stdout",
          "output_type": "stream",
          "text": [
            "291/291 [==============================] - 2s 4ms/step\n",
            "291/291 [==============================] - 1s 4ms/step\n",
            "291/291 [==============================] - 1s 4ms/step - loss: 0.0618 - mean_squared_error: 0.0618\n",
            "[0.06184893846511841, 0.06184893846511841]\n"
          ]
        }
      ]
    },
    {
      "cell_type": "code",
      "source": [
        "model = reg.export_model()\n",
        "model.summary()"
      ],
      "metadata": {
        "colab": {
          "base_uri": "https://localhost:8080/"
        },
        "id": "Ji0uuBqc-Gub",
        "outputId": "697aa215-91b0-4346-a4ec-62b46ac9dcee"
      },
      "execution_count": null,
      "outputs": [
        {
          "output_type": "stream",
          "name": "stdout",
          "text": [
            "Model: \"model\"\n",
            "_________________________________________________________________\n",
            " Layer (type)                Output Shape              Param #   \n",
            "=================================================================\n",
            " input_1 (InputLayer)        [(None, 27)]              0         \n",
            "                                                                 \n",
            " multi_category_encoding (Mu  (None, 27)               0         \n",
            " ltiCategoryEncoding)                                            \n",
            "                                                                 \n",
            " normalization (Normalizatio  (None, 27)               55        \n",
            " n)                                                              \n",
            "                                                                 \n",
            " dense (Dense)               (None, 512)               14336     \n",
            "                                                                 \n",
            " re_lu (ReLU)                (None, 512)               0         \n",
            "                                                                 \n",
            " dense_1 (Dense)             (None, 1024)              525312    \n",
            "                                                                 \n",
            " re_lu_1 (ReLU)              (None, 1024)              0         \n",
            "                                                                 \n",
            " dropout (Dropout)           (None, 1024)              0         \n",
            "                                                                 \n",
            " regression_head_1 (Dense)   (None, 1)                 1025      \n",
            "                                                                 \n",
            "=================================================================\n",
            "Total params: 540,728\n",
            "Trainable params: 540,673\n",
            "Non-trainable params: 55\n",
            "_________________________________________________________________\n"
          ]
        }
      ]
    },
    {
      "cell_type": "code",
      "source": [
        "test_df = test_data[test_data.value.isna() == False]"
      ],
      "metadata": {
        "id": "3AN97nsC-hL2"
      },
      "execution_count": null,
      "outputs": []
    },
    {
      "cell_type": "code",
      "source": [
        "test_df = pre_process(test_df)"
      ],
      "metadata": {
        "colab": {
          "base_uri": "https://localhost:8080/"
        },
        "id": "hfoGSNg1FL60",
        "outputId": "b13d78cd-425c-4afb-cae5-e4c1292ba66b"
      },
      "execution_count": null,
      "outputs": [
        {
          "output_type": "stream",
          "name": "stderr",
          "text": [
            "<ipython-input-79-63ad3c730c68>:10: DeprecationWarning: In a future version, `df.iloc[:, i] = newvals` will attempt to set the values inplace instead of always setting a new array. To retain the old behavior, use either `df[df.columns[i]] = newvals` or, if columns are non-unique, `df.isetitem(i, newvals)`\n",
            "  data.loc[:,'prev_{}_value'.format(i)] = data.shift(i * 24).value\n",
            "<ipython-input-79-63ad3c730c68>:16: SettingWithCopyWarning: \n",
            "A value is trying to be set on a copy of a slice from a DataFrame.\n",
            "Try using .loc[row_indexer,col_indexer] = value instead\n",
            "\n",
            "See the caveats in the documentation: https://pandas.pydata.org/pandas-docs/stable/user_guide/indexing.html#returning-a-view-versus-a-copy\n",
            "  data['std_hour'] = data[['prev_{}_value'.format(i) for i in range(lookback_start, lookback_end + 1)]].std(axis = 1)\n"
          ]
        }
      ]
    },
    {
      "cell_type": "code",
      "source": [
        "x_test = test_df[(test_df.time >= '2023-06-19 01:00:00') & (test_df.time <= '2023-06-20 00:00:00')].drop(columns = ['time','value','std_hour']).values\n",
        "y_test = test_df[(test_df.time >= '2023-06-19 01:00:00') & (test_df.time <= '2023-06-20 00:00:00')].value"
      ],
      "metadata": {
        "id": "HczNG3fwDsMZ"
      },
      "execution_count": null,
      "outputs": []
    },
    {
      "cell_type": "code",
      "source": [
        "x_test.shape"
      ],
      "metadata": {
        "colab": {
          "base_uri": "https://localhost:8080/"
        },
        "id": "JwhY4Z50D_s7",
        "outputId": "a29904a8-8ded-41bc-8ebc-336cd2df393e"
      },
      "execution_count": null,
      "outputs": [
        {
          "output_type": "execute_result",
          "data": {
            "text/plain": [
              "(24, 27)"
            ]
          },
          "metadata": {},
          "execution_count": 72
        }
      ]
    },
    {
      "cell_type": "code",
      "source": [
        "y_pred = model.predict(x_test)"
      ],
      "metadata": {
        "colab": {
          "base_uri": "https://localhost:8080/"
        },
        "id": "XIuX3ho2Ebqv",
        "outputId": "765b8cc9-9a16-4459-ad53-333b23554975"
      },
      "execution_count": null,
      "outputs": [
        {
          "output_type": "stream",
          "name": "stdout",
          "text": [
            "1/1 [==============================] - 0s 30ms/step\n"
          ]
        }
      ]
    },
    {
      "cell_type": "code",
      "source": [
        "y_test.shape"
      ],
      "metadata": {
        "colab": {
          "base_uri": "https://localhost:8080/"
        },
        "id": "sTZkzQVnHS-N",
        "outputId": "45a9a2b2-3ab9-4270-fb3a-96dc4311643e"
      },
      "execution_count": null,
      "outputs": [
        {
          "output_type": "execute_result",
          "data": {
            "text/plain": [
              "(24,)"
            ]
          },
          "metadata": {},
          "execution_count": 76
        }
      ]
    },
    {
      "cell_type": "code",
      "source": [
        "plt.plot(range(24),y_test)\n",
        "plt.plot(range(24),y_pred[:,0])"
      ],
      "metadata": {
        "colab": {
          "base_uri": "https://localhost:8080/",
          "height": 447
        },
        "id": "v7egqqIFHKnr",
        "outputId": "95e2d543-53c2-4485-e4f8-f74076188ed2"
      },
      "execution_count": null,
      "outputs": [
        {
          "output_type": "execute_result",
          "data": {
            "text/plain": [
              "[<matplotlib.lines.Line2D at 0x7f0ff70125c0>]"
            ]
          },
          "metadata": {},
          "execution_count": 78
        },
        {
          "output_type": "display_data",
          "data": {
            "text/plain": [
              "<Figure size 640x480 with 1 Axes>"
            ],
            "image/png": "[encoded data removed]"
          },
          "metadata": {}
        }
      ]
    },
    {
      "cell_type": "code",
      "source": [
        "X_train = training_data.drop(columns = ['time', 'value'])[:int(0.7 * len(training_data))].values\n",
        "y_train = training_data[:int(0.7 * len(training_data))].value\n",
        "\n",
        "\n",
        "X_val = training_data.drop(columns = ['time', 'value'])[int(0.7 * len(training_data)):].values\n",
        "y_val = training_data[int(0.7 * len(training_data)):].value\n"
      ],
      "metadata": {
        "id": "IDklPFxVHPSj"
      },
      "execution_count": null,
      "outputs": []
    },
    {
      "cell_type": "code",
      "source": [
        "# predict_from = 1\n",
        "# predict_until = 24 * 5\n",
        "# lookback = 10 * 24\n",
        "# clf = ak.TimeseriesForecaster(\n",
        "#     lookback=lookback,\n",
        "#     predict_from=predict_from,\n",
        "#     predict_until=predict_until,\n",
        "#     max_trials=100, overwrite=True\n",
        "# )\n",
        "# # Train the TimeSeriesForecaster with train data\n",
        "# clf.fit(x=X_train,\n",
        "#         y=y_train,x\n",
        "#         validation_data=(X_val, y_val),)\n"
      ],
      "metadata": {
        "id": "n0A-s2vCKNxF"
      },
      "execution_count": 97,
      "outputs": []
    },
    {
      "cell_type": "code",
      "source": [
        "# # Predict with the best model(includes original training data).\n",
        "# predictions = clf.predict(data_x_test)\n",
        "# print(predictions.shape)\n",
        "# # Evaluate the best model with testing data.\n",
        "# print(clf.evaluate(data_x_val, data_y_val))"
      ],
      "metadata": {
        "id": "OWjDgzEZMmOi"
      },
      "execution_count": 98,
      "outputs": []
    },
    {
      "cell_type": "code",
      "source": [],
      "metadata": {
        "id": "tJZvN1X5sCJL"
      },
      "execution_count": null,
      "outputs": []
    }
  ]
}